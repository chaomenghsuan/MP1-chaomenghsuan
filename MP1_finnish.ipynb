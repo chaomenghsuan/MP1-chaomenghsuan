{
 "cells": [
  {
   "cell_type": "code",
   "execution_count": 2,
   "metadata": {
    "collapsed": true
   },
   "outputs": [],
   "source": [
    "from pynini import *\n",
    "import pandas as pd"
   ]
  },
  {
   "cell_type": "markdown",
   "metadata": {},
   "source": [
    "# importing data"
   ]
  },
  {
   "cell_type": "code",
   "execution_count": 3,
   "metadata": {
    "collapsed": true
   },
   "outputs": [],
   "source": [
    "df = pd.DataFrame.from_csv('finnish_train.tsv', sep='\\t', header=None, index_col=None)"
   ]
  },
  {
   "cell_type": "code",
   "execution_count": 33,
   "metadata": {},
   "outputs": [
    {
     "data": {
      "text/html": [
       "<div>\n",
       "<style>\n",
       "    .dataframe thead tr:only-child th {\n",
       "        text-align: right;\n",
       "    }\n",
       "\n",
       "    .dataframe thead th {\n",
       "        text-align: left;\n",
       "    }\n",
       "\n",
       "    .dataframe tbody tr th {\n",
       "        vertical-align: top;\n",
       "    }\n",
       "</style>\n",
       "<table border=\"1\" class=\"dataframe\">\n",
       "  <thead>\n",
       "    <tr style=\"text-align: right;\">\n",
       "      <th></th>\n",
       "      <th>LEMMA</th>\n",
       "      <th>WORDFORM</th>\n",
       "      <th>MORPHOLOGY</th>\n",
       "    </tr>\n",
       "  </thead>\n",
       "  <tbody>\n",
       "    <tr>\n",
       "      <th>0</th>\n",
       "      <td>kvalifikaatio</td>\n",
       "      <td>kvalifikaatiossa</td>\n",
       "      <td>IN</td>\n",
       "    </tr>\n",
       "    <tr>\n",
       "      <th>1</th>\n",
       "      <td>kuolinnaamio</td>\n",
       "      <td>kuolinnaamiolla</td>\n",
       "      <td>AT</td>\n",
       "    </tr>\n",
       "    <tr>\n",
       "      <th>2</th>\n",
       "      <td>saali</td>\n",
       "      <td>saalissa</td>\n",
       "      <td>IN</td>\n",
       "    </tr>\n",
       "    <tr>\n",
       "      <th>3</th>\n",
       "      <td>pakenija</td>\n",
       "      <td>pakenijalla</td>\n",
       "      <td>AT</td>\n",
       "    </tr>\n",
       "    <tr>\n",
       "      <th>4</th>\n",
       "      <td>oppositiokansanedustaja</td>\n",
       "      <td>oppositiokansanedustajassa</td>\n",
       "      <td>IN</td>\n",
       "    </tr>\n",
       "  </tbody>\n",
       "</table>\n",
       "</div>"
      ],
      "text/plain": [
       "                     LEMMA                    WORDFORM MORPHOLOGY\n",
       "0            kvalifikaatio            kvalifikaatiossa         IN\n",
       "1             kuolinnaamio             kuolinnaamiolla         AT\n",
       "2                    saali                    saalissa         IN\n",
       "3                 pakenija                 pakenijalla         AT\n",
       "4  oppositiokansanedustaja  oppositiokansanedustajassa         IN"
      ]
     },
     "execution_count": 33,
     "metadata": {},
     "output_type": "execute_result"
    }
   ],
   "source": [
    "df.head()"
   ]
  },
  {
   "cell_type": "code",
   "execution_count": 5,
   "metadata": {},
   "outputs": [
    {
     "data": {
      "text/html": [
       "<div>\n",
       "<style>\n",
       "    .dataframe thead tr:only-child th {\n",
       "        text-align: right;\n",
       "    }\n",
       "\n",
       "    .dataframe thead th {\n",
       "        text-align: left;\n",
       "    }\n",
       "\n",
       "    .dataframe tbody tr th {\n",
       "        vertical-align: top;\n",
       "    }\n",
       "</style>\n",
       "<table border=\"1\" class=\"dataframe\">\n",
       "  <thead>\n",
       "    <tr style=\"text-align: right;\">\n",
       "      <th></th>\n",
       "      <th>LEMMA</th>\n",
       "      <th>WORDFORM</th>\n",
       "      <th>MORPHOLOGY</th>\n",
       "    </tr>\n",
       "  </thead>\n",
       "  <tbody>\n",
       "    <tr>\n",
       "      <th>0</th>\n",
       "      <td>kvalifikaatio</td>\n",
       "      <td>kvalifikaatiossa</td>\n",
       "      <td>N;IN+ESS;SG</td>\n",
       "    </tr>\n",
       "    <tr>\n",
       "      <th>1</th>\n",
       "      <td>kuolinnaamio</td>\n",
       "      <td>kuolinnaamiolla</td>\n",
       "      <td>N;AT+ESS;SG</td>\n",
       "    </tr>\n",
       "    <tr>\n",
       "      <th>2</th>\n",
       "      <td>saali</td>\n",
       "      <td>saalissa</td>\n",
       "      <td>N;IN+ESS;SG</td>\n",
       "    </tr>\n",
       "    <tr>\n",
       "      <th>3</th>\n",
       "      <td>pakenija</td>\n",
       "      <td>pakenijalla</td>\n",
       "      <td>N;AT+ESS;SG</td>\n",
       "    </tr>\n",
       "    <tr>\n",
       "      <th>4</th>\n",
       "      <td>oppositiokansanedustaja</td>\n",
       "      <td>oppositiokansanedustajassa</td>\n",
       "      <td>N;IN+ESS;SG</td>\n",
       "    </tr>\n",
       "  </tbody>\n",
       "</table>\n",
       "</div>"
      ],
      "text/plain": [
       "                     LEMMA                    WORDFORM   MORPHOLOGY\n",
       "0            kvalifikaatio            kvalifikaatiossa  N;IN+ESS;SG\n",
       "1             kuolinnaamio             kuolinnaamiolla  N;AT+ESS;SG\n",
       "2                    saali                    saalissa  N;IN+ESS;SG\n",
       "3                 pakenija                 pakenijalla  N;AT+ESS;SG\n",
       "4  oppositiokansanedustaja  oppositiokansanedustajassa  N;IN+ESS;SG"
      ]
     },
     "execution_count": 5,
     "metadata": {},
     "output_type": "execute_result"
    }
   ],
   "source": [
    "df.columns = ['LEMMA', 'WORDFORM', 'MORPHOLOGY']\n",
    "df.head()"
   ]
  },
  {
   "cell_type": "code",
   "execution_count": 6,
   "metadata": {},
   "outputs": [
    {
     "name": "stderr",
     "output_type": "stream",
     "text": [
      "/anaconda/lib/python3.6/site-packages/ipykernel_launcher.py:1: FutureWarning: currently extract(expand=None) means expand=False (return Index/Series/DataFrame) but in a future version of pandas this will be changed to expand=True (return DataFrame)\n",
      "  \"\"\"Entry point for launching an IPython kernel.\n"
     ]
    },
    {
     "data": {
      "text/html": [
       "<div>\n",
       "<style>\n",
       "    .dataframe thead tr:only-child th {\n",
       "        text-align: right;\n",
       "    }\n",
       "\n",
       "    .dataframe thead th {\n",
       "        text-align: left;\n",
       "    }\n",
       "\n",
       "    .dataframe tbody tr th {\n",
       "        vertical-align: top;\n",
       "    }\n",
       "</style>\n",
       "<table border=\"1\" class=\"dataframe\">\n",
       "  <thead>\n",
       "    <tr style=\"text-align: right;\">\n",
       "      <th></th>\n",
       "      <th>LEMMA</th>\n",
       "      <th>WORDFORM</th>\n",
       "      <th>MORPHOLOGY</th>\n",
       "    </tr>\n",
       "  </thead>\n",
       "  <tbody>\n",
       "    <tr>\n",
       "      <th>0</th>\n",
       "      <td>kvalifikaatio</td>\n",
       "      <td>kvalifikaatiossa</td>\n",
       "      <td>IN</td>\n",
       "    </tr>\n",
       "    <tr>\n",
       "      <th>1</th>\n",
       "      <td>kuolinnaamio</td>\n",
       "      <td>kuolinnaamiolla</td>\n",
       "      <td>AT</td>\n",
       "    </tr>\n",
       "    <tr>\n",
       "      <th>2</th>\n",
       "      <td>saali</td>\n",
       "      <td>saalissa</td>\n",
       "      <td>IN</td>\n",
       "    </tr>\n",
       "    <tr>\n",
       "      <th>3</th>\n",
       "      <td>pakenija</td>\n",
       "      <td>pakenijalla</td>\n",
       "      <td>AT</td>\n",
       "    </tr>\n",
       "    <tr>\n",
       "      <th>4</th>\n",
       "      <td>oppositiokansanedustaja</td>\n",
       "      <td>oppositiokansanedustajassa</td>\n",
       "      <td>IN</td>\n",
       "    </tr>\n",
       "  </tbody>\n",
       "</table>\n",
       "</div>"
      ],
      "text/plain": [
       "                     LEMMA                    WORDFORM MORPHOLOGY\n",
       "0            kvalifikaatio            kvalifikaatiossa         IN\n",
       "1             kuolinnaamio             kuolinnaamiolla         AT\n",
       "2                    saali                    saalissa         IN\n",
       "3                 pakenija                 pakenijalla         AT\n",
       "4  oppositiokansanedustaja  oppositiokansanedustajassa         IN"
      ]
     },
     "execution_count": 6,
     "metadata": {},
     "output_type": "execute_result"
    }
   ],
   "source": [
    "df['MORPHOLOGY'] = df['MORPHOLOGY'].str.extract(r'([A-Z]{2})\\+ESS')\n",
    "df.head()"
   ]
  },
  {
   "cell_type": "markdown",
   "metadata": {},
   "source": [
    "# separating adessive and inessive"
   ]
  },
  {
   "cell_type": "code",
   "execution_count": 7,
   "metadata": {
    "collapsed": true
   },
   "outputs": [],
   "source": [
    "adessive = df.loc[df['MORPHOLOGY'] == 'AT']\n",
    "inessive = df.loc[df['MORPHOLOGY'] == 'IN']"
   ]
  },
  {
   "cell_type": "code",
   "execution_count": 8,
   "metadata": {},
   "outputs": [
    {
     "data": {
      "text/html": [
       "<div>\n",
       "<style>\n",
       "    .dataframe thead tr:only-child th {\n",
       "        text-align: right;\n",
       "    }\n",
       "\n",
       "    .dataframe thead th {\n",
       "        text-align: left;\n",
       "    }\n",
       "\n",
       "    .dataframe tbody tr th {\n",
       "        vertical-align: top;\n",
       "    }\n",
       "</style>\n",
       "<table border=\"1\" class=\"dataframe\">\n",
       "  <thead>\n",
       "    <tr style=\"text-align: right;\">\n",
       "      <th></th>\n",
       "      <th>LEMMA</th>\n",
       "      <th>WORDFORM</th>\n",
       "      <th>MORPHOLOGY</th>\n",
       "    </tr>\n",
       "  </thead>\n",
       "  <tbody>\n",
       "    <tr>\n",
       "      <th>1</th>\n",
       "      <td>kuolinnaamio</td>\n",
       "      <td>kuolinnaamiolla</td>\n",
       "      <td>AT</td>\n",
       "    </tr>\n",
       "    <tr>\n",
       "      <th>3</th>\n",
       "      <td>pakenija</td>\n",
       "      <td>pakenijalla</td>\n",
       "      <td>AT</td>\n",
       "    </tr>\n",
       "  </tbody>\n",
       "</table>\n",
       "</div>"
      ],
      "text/plain": [
       "          LEMMA         WORDFORM MORPHOLOGY\n",
       "1  kuolinnaamio  kuolinnaamiolla         AT\n",
       "3      pakenija      pakenijalla         AT"
      ]
     },
     "execution_count": 8,
     "metadata": {},
     "output_type": "execute_result"
    }
   ],
   "source": [
    "adessive.head(2)"
   ]
  },
  {
   "cell_type": "code",
   "execution_count": 9,
   "metadata": {},
   "outputs": [
    {
     "data": {
      "text/html": [
       "<div>\n",
       "<style>\n",
       "    .dataframe thead tr:only-child th {\n",
       "        text-align: right;\n",
       "    }\n",
       "\n",
       "    .dataframe thead th {\n",
       "        text-align: left;\n",
       "    }\n",
       "\n",
       "    .dataframe tbody tr th {\n",
       "        vertical-align: top;\n",
       "    }\n",
       "</style>\n",
       "<table border=\"1\" class=\"dataframe\">\n",
       "  <thead>\n",
       "    <tr style=\"text-align: right;\">\n",
       "      <th></th>\n",
       "      <th>LEMMA</th>\n",
       "      <th>WORDFORM</th>\n",
       "      <th>MORPHOLOGY</th>\n",
       "    </tr>\n",
       "  </thead>\n",
       "  <tbody>\n",
       "    <tr>\n",
       "      <th>0</th>\n",
       "      <td>kvalifikaatio</td>\n",
       "      <td>kvalifikaatiossa</td>\n",
       "      <td>IN</td>\n",
       "    </tr>\n",
       "    <tr>\n",
       "      <th>2</th>\n",
       "      <td>saali</td>\n",
       "      <td>saalissa</td>\n",
       "      <td>IN</td>\n",
       "    </tr>\n",
       "  </tbody>\n",
       "</table>\n",
       "</div>"
      ],
      "text/plain": [
       "           LEMMA          WORDFORM MORPHOLOGY\n",
       "0  kvalifikaatio  kvalifikaatiossa         IN\n",
       "2          saali          saalissa         IN"
      ]
     },
     "execution_count": 9,
     "metadata": {},
     "output_type": "execute_result"
    }
   ],
   "source": [
    "inessive.head(2)"
   ]
  },
  {
   "cell_type": "markdown",
   "metadata": {},
   "source": [
    "# building fst"
   ]
  },
  {
   "cell_type": "code",
   "execution_count": 10,
   "metadata": {},
   "outputs": [
    {
     "data": {
      "text/plain": [
       "['-',\n",
       " 'a',\n",
       " 'b',\n",
       " 'c',\n",
       " 'd',\n",
       " 'e',\n",
       " 'f',\n",
       " 'g',\n",
       " 'h',\n",
       " 'i',\n",
       " 'j',\n",
       " 'k',\n",
       " 'l',\n",
       " 'm',\n",
       " 'n',\n",
       " 'o',\n",
       " 'p',\n",
       " 'r',\n",
       " 's',\n",
       " 't',\n",
       " 'u',\n",
       " 'v',\n",
       " 'y',\n",
       " 'ä',\n",
       " 'ö',\n",
       " 'š']"
      ]
     },
     "execution_count": 10,
     "metadata": {},
     "output_type": "execute_result"
    }
   ],
   "source": [
    "all_chr = sorted(list(set(''.join(list(df['LEMMA'])+list(df['WORDFORM'])))))\n",
    "all_chr"
   ]
  },
  {
   "cell_type": "code",
   "execution_count": 11,
   "metadata": {
    "collapsed": true
   },
   "outputs": [],
   "source": [
    "neutral = ['i', 'e']\n",
    "front = ['y', 'ö', 'ä']\n",
    "back = ['u', 'o', 'a']\n",
    "consonant = [i for i in all_chr[1:] if i not in neutral and i not in front and i not in back]"
   ]
  },
  {
   "cell_type": "code",
   "execution_count": 12,
   "metadata": {
    "collapsed": true
   },
   "outputs": [],
   "source": [
    "fin_alphabet = string_map(all_chr).closure()\n",
    "left_env = string_map(back) + string_map(neutral+consonant).closure()"
   ]
  },
  {
   "cell_type": "code",
   "execution_count": 13,
   "metadata": {
    "collapsed": true
   },
   "outputs": [],
   "source": [
    "fst_at_suffix = transducer('', 'llä')\n",
    "fst_in_suffix = transducer('', 'ssä')\n",
    "fst_vowelharm = transducer('ä', 'a')"
   ]
  },
  {
   "cell_type": "code",
   "execution_count": 14,
   "metadata": {
    "collapsed": true
   },
   "outputs": [],
   "source": [
    "add_at_suffix = cdrewrite(fst_at_suffix, '', '[EOS]', fin_alphabet)\n",
    "add_in_suffix = cdrewrite(fst_in_suffix, '', '[EOS]', fin_alphabet)\n",
    "vowel_harm = cdrewrite(fst_vowelharm, \n",
    "                       string_map(back)+string_map(neutral+consonant).closure()+string_map(['l','s']).closure(2), \n",
    "                       '[EOS]', fin_alphabet)"
   ]
  },
  {
   "cell_type": "code",
   "execution_count": 15,
   "metadata": {
    "collapsed": true
   },
   "outputs": [],
   "source": [
    "result_at = [compose(input_str, add_at_suffix@vowel_harm).stringify() for input_str in adessive['LEMMA']]\n",
    "result_in = [compose(input_str, add_in_suffix@vowel_harm).stringify() for input_str in inessive['LEMMA']]"
   ]
  },
  {
   "cell_type": "markdown",
   "metadata": {},
   "source": [
    "# output rules into .far file"
   ]
  },
  {
   "cell_type": "code",
   "execution_count": 16,
   "metadata": {
    "collapsed": true
   },
   "outputs": [],
   "source": [
    "with Far(\"MP1_finnish.far\", \"w\") as sink:\n",
    "    sink[\"ADESSIVE\"] = add_at_suffix@vowel_harm\n",
    "    sink[\"INESSIVE\"] = add_in_suffix@vowel_harm"
   ]
  },
  {
   "cell_type": "markdown",
   "metadata": {},
   "source": [
    "# assessment"
   ]
  },
  {
   "cell_type": "code",
   "execution_count": 17,
   "metadata": {},
   "outputs": [
    {
     "name": "stderr",
     "output_type": "stream",
     "text": [
      "/anaconda/lib/python3.6/site-packages/ipykernel_launcher.py:1: SettingWithCopyWarning: \n",
      "A value is trying to be set on a copy of a slice from a DataFrame.\n",
      "Try using .loc[row_indexer,col_indexer] = value instead\n",
      "\n",
      "See the caveats in the documentation: http://pandas.pydata.org/pandas-docs/stable/indexing.html#indexing-view-versus-copy\n",
      "  \"\"\"Entry point for launching an IPython kernel.\n",
      "/anaconda/lib/python3.6/site-packages/ipykernel_launcher.py:2: SettingWithCopyWarning: \n",
      "A value is trying to be set on a copy of a slice from a DataFrame.\n",
      "Try using .loc[row_indexer,col_indexer] = value instead\n",
      "\n",
      "See the caveats in the documentation: http://pandas.pydata.org/pandas-docs/stable/indexing.html#indexing-view-versus-copy\n",
      "  \n",
      "/anaconda/lib/python3.6/site-packages/ipykernel_launcher.py:3: SettingWithCopyWarning: \n",
      "A value is trying to be set on a copy of a slice from a DataFrame.\n",
      "Try using .loc[row_indexer,col_indexer] = value instead\n",
      "\n",
      "See the caveats in the documentation: http://pandas.pydata.org/pandas-docs/stable/indexing.html#indexing-view-versus-copy\n",
      "  This is separate from the ipykernel package so we can avoid doing imports until\n",
      "/anaconda/lib/python3.6/site-packages/ipykernel_launcher.py:4: SettingWithCopyWarning: \n",
      "A value is trying to be set on a copy of a slice from a DataFrame.\n",
      "Try using .loc[row_indexer,col_indexer] = value instead\n",
      "\n",
      "See the caveats in the documentation: http://pandas.pydata.org/pandas-docs/stable/indexing.html#indexing-view-versus-copy\n",
      "  after removing the cwd from sys.path.\n"
     ]
    }
   ],
   "source": [
    "adessive['RESULT'] = result_at\n",
    "adessive['ASSESSMENT'] = (result_at == adessive['WORDFORM'])\n",
    "inessive['RESULT'] = result_in\n",
    "inessive['ASSESSMENT'] = (result_in == inessive['WORDFORM'])"
   ]
  },
  {
   "cell_type": "code",
   "execution_count": 36,
   "metadata": {},
   "outputs": [
    {
     "data": {
      "text/html": [
       "<div>\n",
       "<style>\n",
       "    .dataframe thead tr:only-child th {\n",
       "        text-align: right;\n",
       "    }\n",
       "\n",
       "    .dataframe thead th {\n",
       "        text-align: left;\n",
       "    }\n",
       "\n",
       "    .dataframe tbody tr th {\n",
       "        vertical-align: top;\n",
       "    }\n",
       "</style>\n",
       "<table border=\"1\" class=\"dataframe\">\n",
       "  <thead>\n",
       "    <tr style=\"text-align: right;\">\n",
       "      <th></th>\n",
       "      <th>LEMMA</th>\n",
       "      <th>WORDFORM</th>\n",
       "      <th>MORPHOLOGY</th>\n",
       "      <th>RESULT</th>\n",
       "      <th>ASSESSMENT</th>\n",
       "    </tr>\n",
       "  </thead>\n",
       "  <tbody>\n",
       "    <tr>\n",
       "      <th>1</th>\n",
       "      <td>kuolinnaamio</td>\n",
       "      <td>kuolinnaamiolla</td>\n",
       "      <td>AT</td>\n",
       "      <td>kuolinnaamiolla</td>\n",
       "      <td>True</td>\n",
       "    </tr>\n",
       "    <tr>\n",
       "      <th>3</th>\n",
       "      <td>pakenija</td>\n",
       "      <td>pakenijalla</td>\n",
       "      <td>AT</td>\n",
       "      <td>pakenijalla</td>\n",
       "      <td>True</td>\n",
       "    </tr>\n",
       "    <tr>\n",
       "      <th>6</th>\n",
       "      <td>abbedissa</td>\n",
       "      <td>abbedissalla</td>\n",
       "      <td>AT</td>\n",
       "      <td>abbedissalla</td>\n",
       "      <td>True</td>\n",
       "    </tr>\n",
       "    <tr>\n",
       "      <th>9</th>\n",
       "      <td>häkkikanala</td>\n",
       "      <td>häkkikanalalla</td>\n",
       "      <td>AT</td>\n",
       "      <td>häkkikanalalla</td>\n",
       "      <td>True</td>\n",
       "    </tr>\n",
       "    <tr>\n",
       "      <th>11</th>\n",
       "      <td>seurustelu</td>\n",
       "      <td>seurustelulla</td>\n",
       "      <td>AT</td>\n",
       "      <td>seurustelulla</td>\n",
       "      <td>True</td>\n",
       "    </tr>\n",
       "  </tbody>\n",
       "</table>\n",
       "</div>"
      ],
      "text/plain": [
       "           LEMMA         WORDFORM MORPHOLOGY           RESULT  ASSESSMENT\n",
       "1   kuolinnaamio  kuolinnaamiolla         AT  kuolinnaamiolla        True\n",
       "3       pakenija      pakenijalla         AT      pakenijalla        True\n",
       "6      abbedissa     abbedissalla         AT     abbedissalla        True\n",
       "9    häkkikanala   häkkikanalalla         AT   häkkikanalalla        True\n",
       "11    seurustelu    seurustelulla         AT    seurustelulla        True"
      ]
     },
     "execution_count": 36,
     "metadata": {},
     "output_type": "execute_result"
    }
   ],
   "source": [
    "adessive.head()"
   ]
  },
  {
   "cell_type": "code",
   "execution_count": 29,
   "metadata": {},
   "outputs": [
    {
     "data": {
      "text/plain": [
       "23"
      ]
     },
     "execution_count": 29,
     "metadata": {},
     "output_type": "execute_result"
    }
   ],
   "source": [
    "len(adessive.loc[adessive['ASSESSMENT'] == False])"
   ]
  },
  {
   "cell_type": "code",
   "execution_count": 25,
   "metadata": {},
   "outputs": [
    {
     "data": {
      "text/plain": [
       "0.7012987012987013"
      ]
     },
     "execution_count": 25,
     "metadata": {},
     "output_type": "execute_result"
    }
   ],
   "source": [
    "len(adessive.loc[adessive['ASSESSMENT'] == True])/len(adessive)"
   ]
  },
  {
   "cell_type": "code",
   "execution_count": 31,
   "metadata": {},
   "outputs": [
    {
     "data": {
      "text/plain": [
       "13"
      ]
     },
     "execution_count": 31,
     "metadata": {},
     "output_type": "execute_result"
    }
   ],
   "source": [
    "len(inessive.loc[inessive['ASSESSMENT'] == False])"
   ]
  },
  {
   "cell_type": "code",
   "execution_count": 26,
   "metadata": {},
   "outputs": [
    {
     "data": {
      "text/plain": [
       "0.821917808219178"
      ]
     },
     "execution_count": 26,
     "metadata": {},
     "output_type": "execute_result"
    }
   ],
   "source": [
    "len(inessive.loc[inessive['ASSESSMENT'] == True])/len(inessive)"
   ]
  },
  {
   "cell_type": "markdown",
   "metadata": {},
   "source": [
    "# what's in the .far file"
   ]
  },
  {
   "cell_type": "code",
   "execution_count": 21,
   "metadata": {},
   "outputs": [
    {
     "name": "stdout",
     "output_type": "stream",
     "text": [
      "<sttable Far 'MP1_finnish.far', mode 'r' at 0x117a55888>\n"
     ]
    }
   ],
   "source": [
    "with Far('MP1_finnish.far', 'r') as test:\n",
    "    print(test)"
   ]
  },
  {
   "cell_type": "code",
   "execution_count": 22,
   "metadata": {},
   "outputs": [
    {
     "data": {
      "image/svg+xml": [
       "<?xml version=\"1.0\" encoding=\"UTF-8\" standalone=\"no\"?>\n",
       "<!DOCTYPE svg PUBLIC \"-//W3C//DTD SVG 1.1//EN\"\n",
       " \"http://www.w3.org/Graphics/SVG/1.1/DTD/svg11.dtd\">\n",
       "<!-- Generated by graphviz version 2.40.1 (20161225.0304)\n",
       " -->\n",
       "<!-- Title: FST Pages: 1 -->\n",
       "<svg width=\"582pt\" height=\"792pt\"\n",
       " viewBox=\"0.00 0.00 582.12 792.00\" xmlns=\"http://www.w3.org/2000/svg\" xmlns:xlink=\"http://www.w3.org/1999/xlink\">\n",
       "<g id=\"graph0\" class=\"graph\" transform=\"scale(.7537 .7537) rotate(0) translate(4 1046.8513)\">\n",
       "<title>FST</title>\n",
       "<polygon fill=\"#ffffff\" stroke=\"transparent\" points=\"-4,4 -4,-1046.8513 768.3705,-1046.8513 768.3705,4 -4,4\"/>\n",
       "<!-- 10 -->\n",
       "<g id=\"node1\" class=\"node\">\n",
       "<title>10</title>\n",
       "<ellipse fill=\"none\" stroke=\"#000000\" stroke-width=\"2\" cx=\"30.1637\" cy=\"-216.8513\" rx=\"20.8887\" ry=\"20.8887\"/>\n",
       "<text text-anchor=\"middle\" x=\"30.1637\" y=\"-212.6513\" font-family=\"Times,serif\" font-size=\"14.00\" fill=\"#000000\">10</text>\n",
       "</g>\n",
       "<!-- 10&#45;&gt;10 -->\n",
       "<g id=\"edge2\" class=\"edge\">\n",
       "<title>10&#45;&gt;10</title>\n",
       "<path fill=\"none\" stroke=\"#000000\" d=\"M28.6933,-237.5517C28.5329,-247.1546 29.023,-255.5448 30.1637,-255.5448 30.8587,-255.5448 31.3122,-252.4292 31.5242,-247.8221\"/>\n",
       "<polygon fill=\"#000000\" stroke=\"#000000\" points=\"35.0268,-247.5886 31.634,-237.5517 28.0272,-247.5137 35.0268,-247.5886\"/>\n",
       "<text text-anchor=\"middle\" x=\"30.1637\" y=\"-259.7448\" font-family=\"Times,serif\" font-size=\"14.00\" fill=\"#000000\">&#45;:&#45;</text>\n",
       "</g>\n",
       "<!-- 10&#45;&gt;10 -->\n",
       "<g id=\"edge4\" class=\"edge\">\n",
       "<title>10&#45;&gt;10</title>\n",
       "<path fill=\"none\" stroke=\"#000000\" d=\"M27.6399,-237.4899C26.5255,-255.0662 27.3668,-273.5448 30.1637,-273.5448 32.4143,-273.5448 33.3986,-261.5795 33.1165,-247.7474\"/>\n",
       "<polygon fill=\"#000000\" stroke=\"#000000\" points=\"36.6024,-247.3349 32.6874,-237.4899 29.6086,-247.6275 36.6024,-247.3349\"/>\n",
       "<text text-anchor=\"middle\" x=\"30.1637\" y=\"-277.7448\" font-family=\"Times,serif\" font-size=\"14.00\" fill=\"#000000\">b:b</text>\n",
       "</g>\n",
       "<!-- 10&#45;&gt;10 -->\n",
       "<g id=\"edge5\" class=\"edge\">\n",
       "<title>10&#45;&gt;10</title>\n",
       "<path fill=\"none\" stroke=\"#000000\" d=\"M26.9337,-237.499C24.4932,-262.3555 25.5699,-291.5448 30.1637,-291.5448 34.1473,-291.5448 35.486,-269.594 34.1799,-247.5535\"/>\n",
       "<polygon fill=\"#000000\" stroke=\"#000000\" points=\"37.6627,-247.1956 33.3936,-237.499 30.684,-247.7414 37.6627,-247.1956\"/>\n",
       "<text text-anchor=\"middle\" x=\"30.1637\" y=\"-295.7448\" font-family=\"Times,serif\" font-size=\"14.00\" fill=\"#000000\">c:c</text>\n",
       "</g>\n",
       "<!-- 10&#45;&gt;10 -->\n",
       "<g id=\"edge6\" class=\"edge\">\n",
       "<title>10&#45;&gt;10</title>\n",
       "<path fill=\"none\" stroke=\"#000000\" d=\"M26.4492,-237.3394C22.4567,-269.1413 23.6949,-309.5448 30.1637,-309.5448 35.9501,-309.5448 37.5512,-277.2145 34.9668,-247.6312\"/>\n",
       "<polygon fill=\"#000000\" stroke=\"#000000\" points=\"38.4107,-246.9157 33.8781,-237.3394 31.4496,-247.6521 38.4107,-246.9157\"/>\n",
       "<text text-anchor=\"middle\" x=\"30.1637\" y=\"-313.7448\" font-family=\"Times,serif\" font-size=\"14.00\" fill=\"#000000\">d:d</text>\n",
       "</g>\n",
       "<!-- 10&#45;&gt;10 -->\n",
       "<g id=\"edge7\" class=\"edge\">\n",
       "<title>10&#45;&gt;10</title>\n",
       "<path fill=\"none\" stroke=\"#000000\" d=\"M26.0888,-237.2331C20.4264,-275.7357 21.7847,-327.5448 30.1637,-327.5448 37.8225,-327.5448 39.6155,-284.2578 35.5428,-247.4131\"/>\n",
       "<polygon fill=\"#000000\" stroke=\"#000000\" points=\"38.9811,-246.7072 34.2385,-237.2331 32.0378,-247.5969 38.9811,-246.7072\"/>\n",
       "<text text-anchor=\"middle\" x=\"30.1637\" y=\"-331.7448\" font-family=\"Times,serif\" font-size=\"14.00\" fill=\"#000000\">e:e</text>\n",
       "</g>\n",
       "<!-- 10&#45;&gt;10 -->\n",
       "<g id=\"edge8\" class=\"edge\">\n",
       "<title>10&#45;&gt;10</title>\n",
       "<path fill=\"none\" stroke=\"#000000\" d=\"M25.8131,-237.1359C18.401,-282.1825 19.8512,-345.5448 30.1637,-345.5448 39.7309,-345.5448 41.6705,-291.0094 35.9823,-247.158\"/>\n",
       "<polygon fill=\"#000000\" stroke=\"#000000\" points=\"39.4267,-246.523 34.5142,-237.1359 32.5007,-247.5376 39.4267,-246.523\"/>\n",
       "<text text-anchor=\"middle\" x=\"30.1637\" y=\"-349.7448\" font-family=\"Times,serif\" font-size=\"14.00\" fill=\"#000000\">f:f</text>\n",
       "</g>\n",
       "<!-- 10&#45;&gt;10 -->\n",
       "<g id=\"edge9\" class=\"edge\">\n",
       "<title>10&#45;&gt;10</title>\n",
       "<path fill=\"none\" stroke=\"#000000\" d=\"M25.5699,-237.1936C16.3824,-288.67 17.9137,-363.5448 30.1637,-363.5448 41.648,-363.5448 43.7116,-297.7368 36.3544,-247.0956\"/>\n",
       "<polygon fill=\"#000000\" stroke=\"#000000\" points=\"39.8051,-246.5087 34.7574,-237.1936 32.8944,-247.6233 39.8051,-246.5087\"/>\n",
       "<text text-anchor=\"middle\" x=\"30.1637\" y=\"-367.7448\" font-family=\"Times,serif\" font-size=\"14.00\" fill=\"#000000\">g:g</text>\n",
       "</g>\n",
       "<!-- 10&#45;&gt;10 -->\n",
       "<g id=\"edge10\" class=\"edge\">\n",
       "<title>10&#45;&gt;10</title>\n",
       "<path fill=\"none\" stroke=\"#000000\" d=\"M25.4148,-237.0003C14.362,-294.835 15.9449,-381.5448 30.1637,-381.5448 43.577,-381.5448 45.7455,-304.3794 36.669,-247.0846\"/>\n",
       "<polygon fill=\"#000000\" stroke=\"#000000\" points=\"40.0766,-246.2513 34.9125,-237.0003 33.1805,-247.4526 40.0766,-246.2513\"/>\n",
       "<text text-anchor=\"middle\" x=\"30.1637\" y=\"-385.7448\" font-family=\"Times,serif\" font-size=\"14.00\" fill=\"#000000\">h:h</text>\n",
       "</g>\n",
       "<!-- 10&#45;&gt;10 -->\n",
       "<g id=\"edge11\" class=\"edge\">\n",
       "<title>10&#45;&gt;10</title>\n",
       "<path fill=\"none\" stroke=\"#000000\" d=\"M25.2363,-237.0992C12.3493,-301.2325 13.9918,-399.5448 30.1637,-399.5448 45.5143,-399.5448 47.7737,-310.9639 36.9419,-247.1166\"/>\n",
       "<polygon fill=\"#000000\" stroke=\"#000000\" points=\"40.3497,-246.2968 35.091,-237.0992 33.4662,-247.5687 40.3497,-246.2968\"/>\n",
       "<text text-anchor=\"middle\" x=\"30.1637\" y=\"-403.7448\" font-family=\"Times,serif\" font-size=\"14.00\" fill=\"#000000\">i:i</text>\n",
       "</g>\n",
       "<!-- 10&#45;&gt;10 -->\n",
       "<g id=\"edge12\" class=\"edge\">\n",
       "<title>10&#45;&gt;10</title>\n",
       "<path fill=\"none\" stroke=\"#000000\" d=\"M25.066,-237.2649C10.3394,-307.6599 12.0387,-417.5448 30.1637,-417.5448 47.439,-417.5448 49.7925,-317.7201 37.224,-247.4091\"/>\n",
       "<polygon fill=\"#000000\" stroke=\"#000000\" points=\"40.5972,-246.4179 35.2613,-237.2649 33.7246,-247.7477 40.5972,-246.4179\"/>\n",
       "<text text-anchor=\"middle\" x=\"30.1637\" y=\"-421.7448\" font-family=\"Times,serif\" font-size=\"14.00\" fill=\"#000000\">j:j</text>\n",
       "</g>\n",
       "<!-- 10&#45;&gt;10 -->\n",
       "<g id=\"edge13\" class=\"edge\">\n",
       "<title>10&#45;&gt;10</title>\n",
       "<path fill=\"none\" stroke=\"#000000\" d=\"M24.9792,-237.1216C8.3261,-313.731 10.0543,-435.5448 30.1637,-435.5448 49.409,-435.5448 51.8187,-323.9745 37.393,-247.2341\"/>\n",
       "<polygon fill=\"#000000\" stroke=\"#000000\" points=\"40.7607,-246.2295 35.3481,-237.1216 33.8996,-247.6169 40.7607,-246.2295\"/>\n",
       "<text text-anchor=\"middle\" x=\"30.1637\" y=\"-439.7448\" font-family=\"Times,serif\" font-size=\"14.00\" fill=\"#000000\">k:k</text>\n",
       "</g>\n",
       "<!-- 10&#45;&gt;10 -->\n",
       "<g id=\"edge14\" class=\"edge\">\n",
       "<title>10&#45;&gt;10</title>\n",
       "<path fill=\"none\" stroke=\"#000000\" d=\"M24.9188,-236.938C6.3138,-319.7255 8.0621,-453.5448 30.1637,-453.5448 51.4019,-453.5448 53.8458,-329.976 37.4956,-246.8622\"/>\n",
       "<polygon fill=\"#000000\" stroke=\"#000000\" points=\"40.8916,-246.0036 35.4085,-236.938 34.0415,-247.4443 40.8916,-246.0036\"/>\n",
       "<text text-anchor=\"middle\" x=\"30.1637\" y=\"-457.7448\" font-family=\"Times,serif\" font-size=\"14.00\" fill=\"#000000\">l:l</text>\n",
       "</g>\n",
       "<!-- 10&#45;&gt;10 -->\n",
       "<g id=\"edge15\" class=\"edge\">\n",
       "<title>10&#45;&gt;10</title>\n",
       "<path fill=\"none\" stroke=\"#000000\" d=\"M24.8042,-237.0532C4.3069,-326.0179 6.0933,-471.5448 30.1637,-471.5448 53.3642,-471.5448 55.8622,-336.3445 37.6577,-246.9088\"/>\n",
       "<polygon fill=\"#000000\" stroke=\"#000000\" points=\"41.0606,-246.0857 35.5231,-237.0532 34.2192,-247.5675 41.0606,-246.0857\"/>\n",
       "<text text-anchor=\"middle\" x=\"30.1637\" y=\"-475.7448\" font-family=\"Times,serif\" font-size=\"14.00\" fill=\"#000000\">m:m</text>\n",
       "</g>\n",
       "<!-- 10&#45;&gt;10 -->\n",
       "<g id=\"edge16\" class=\"edge\">\n",
       "<title>10&#45;&gt;10</title>\n",
       "<path fill=\"none\" stroke=\"#000000\" d=\"M24.7433,-236.9788C2.2983,-332.0851 4.1051,-489.5448 30.1637,-489.5448 55.3316,-489.5448 57.8772,-342.665 37.8005,-246.9407\"/>\n",
       "<polygon fill=\"#000000\" stroke=\"#000000\" points=\"41.1724,-245.98 35.584,-236.9788 34.3395,-247.5003 41.1724,-245.98\"/>\n",
       "<text text-anchor=\"middle\" x=\"30.1637\" y=\"-493.7448\" font-family=\"Times,serif\" font-size=\"14.00\" fill=\"#000000\">n:n</text>\n",
       "</g>\n",
       "<!-- 10&#45;&gt;10 -->\n",
       "<g id=\"edge18\" class=\"edge\">\n",
       "<title>10&#45;&gt;10</title>\n",
       "<path fill=\"none\" stroke=\"#000000\" d=\"M24.6603,-237.0343C.2921,-338.2795 2.1265,-507.5448 30.1637,-507.5448 57.2972,-507.5448 59.8898,-349.0133 37.9413,-247.0267\"/>\n",
       "<polygon fill=\"#000000\" stroke=\"#000000\" points=\"41.2991,-246.0082 35.667,-237.0343 34.4736,-247.5617 41.2991,-246.0082\"/>\n",
       "<text text-anchor=\"middle\" x=\"30.1637\" y=\"-511.7448\" font-family=\"Times,serif\" font-size=\"14.00\" fill=\"#000000\">p:p</text>\n",
       "</g>\n",
       "<!-- 10&#45;&gt;10 -->\n",
       "<g id=\"edge19\" class=\"edge\">\n",
       "<title>10&#45;&gt;10</title>\n",
       "<path fill=\"none\" stroke=\"#000000\" d=\"M24.6208,-236.9397C-1.7152,-344.2927 .1324,-525.5448 30.1637,-525.5448 59.2858,-525.5448 61.9048,-355.1008 38.0209,-246.8857\"/>\n",
       "<polygon fill=\"#000000\" stroke=\"#000000\" points=\"41.3819,-245.8863 35.7065,-236.9397 34.5641,-247.4728 41.3819,-245.8863\"/>\n",
       "<text text-anchor=\"middle\" x=\"30.1637\" y=\"-529.7448\" font-family=\"Times,serif\" font-size=\"14.00\" fill=\"#000000\">r:r</text>\n",
       "</g>\n",
       "<!-- 10&#45;&gt;10 -->\n",
       "<g id=\"edge20\" class=\"edge\">\n",
       "<title>10&#45;&gt;10</title>\n",
       "<path fill=\"none\" stroke=\"#000000\" d=\"M24.5373,-237.0494C-3.7196,-350.5243 -1.8442,-543.5448 30.1637,-543.5448 61.265,-543.5448 63.9165,-361.3023 38.1183,-246.8755\"/>\n",
       "<polygon fill=\"#000000\" stroke=\"#000000\" points=\"41.5014,-245.973 35.79,-237.0494 34.69,-247.587 41.5014,-245.973\"/>\n",
       "<text text-anchor=\"middle\" x=\"30.1637\" y=\"-547.7448\" font-family=\"Times,serif\" font-size=\"14.00\" fill=\"#000000\">s:s</text>\n",
       "</g>\n",
       "<!-- 10&#45;&gt;10 -->\n",
       "<g id=\"edge21\" class=\"edge\">\n",
       "<title>10&#45;&gt;10</title>\n",
       "<path fill=\"none\" stroke=\"#000000\" d=\"M24.4866,-237.0469C-5.7248,-356.6198 -3.8324,-561.5448 30.1637,-561.5448 63.2302,-561.5448 65.9246,-367.6734 38.247,-247.0411\"/>\n",
       "<polygon fill=\"#000000\" stroke=\"#000000\" points=\"41.5843,-245.9498 35.8407,-237.0469 34.7788,-247.5884 41.5843,-245.9498\"/>\n",
       "<text text-anchor=\"middle\" x=\"30.1637\" y=\"-565.7448\" font-family=\"Times,serif\" font-size=\"14.00\" fill=\"#000000\">t:t</text>\n",
       "</g>\n",
       "<!-- 10&#45;&gt;10 -->\n",
       "<g id=\"edge23\" class=\"edge\">\n",
       "<title>10&#45;&gt;10</title>\n",
       "<path fill=\"none\" stroke=\"#000000\" d=\"M24.469,-236.9331C-7.7307,-362.5786 -5.8324,-579.5448 30.1637,-579.5448 65.2458,-579.5448 67.9396,-373.4565 38.2451,-246.6754\"/>\n",
       "<polygon fill=\"#000000\" stroke=\"#000000\" points=\"41.6374,-245.813 35.8583,-236.9331 34.8385,-247.4788 41.6374,-245.813\"/>\n",
       "<text text-anchor=\"middle\" x=\"30.1637\" y=\"-583.7448\" font-family=\"Times,serif\" font-size=\"14.00\" fill=\"#000000\">v:v</text>\n",
       "</g>\n",
       "<!-- 10&#45;&gt;10 -->\n",
       "<g id=\"edge24\" class=\"edge\">\n",
       "<title>10&#45;&gt;10</title>\n",
       "<path fill=\"none\" stroke=\"#000000\" d=\"M24.3793,-237.1152C-9.7332,-368.8708 -7.8051,-597.5448 30.1637,-597.5448 67.2054,-597.5448 69.9449,-379.9002 38.382,-246.9339\"/>\n",
       "<polygon fill=\"#000000\" stroke=\"#000000\" points=\"41.7514,-245.9793 35.948,-237.1152 34.957,-247.6636 41.7514,-245.9793\"/>\n",
       "<text text-anchor=\"middle\" x=\"30.1637\" y=\"-601.7448\" font-family=\"Times,serif\" font-size=\"14.00\" fill=\"#000000\">y:y</text>\n",
       "</g>\n",
       "<!-- 0 -->\n",
       "<g id=\"node2\" class=\"node\">\n",
       "<title>0</title>\n",
       "<ellipse fill=\"none\" stroke=\"#000000\" cx=\"216.4898\" cy=\"-1024.8513\" rx=\"18\" ry=\"18\"/>\n",
       "<text text-anchor=\"middle\" x=\"216.4898\" y=\"-1020.6513\" font-family=\"Times,serif\" font-size=\"14.00\" fill=\"#000000\">0</text>\n",
       "</g>\n",
       "<!-- 10&#45;&gt;0 -->\n",
       "<g id=\"edge1\" class=\"edge\">\n",
       "<title>10&#45;&gt;0</title>\n",
       "<path fill=\"none\" stroke=\"#000000\" d=\"M31.5964,-237.8427C39.5257,-349.0106 80.9673,-868.7805 170.7553,-997.8513 175.5683,-1004.77 182.7749,-1010.1901 190.0522,-1014.2998\"/>\n",
       "<polygon fill=\"#000000\" stroke=\"#000000\" points=\"188.621,-1017.497 199.1331,-1018.8188 191.7397,-1011.2301 188.621,-1017.497\"/>\n",
       "<text text-anchor=\"middle\" x=\"110.8062\" y=\"-970.0513\" font-family=\"Times,serif\" font-size=\"14.00\" fill=\"#000000\">&lt;epsilon&gt;:l</text>\n",
       "</g>\n",
       "<!-- 7 -->\n",
       "<g id=\"node3\" class=\"node\">\n",
       "<title>7</title>\n",
       "<ellipse fill=\"none\" stroke=\"#000000\" cx=\"216.4898\" cy=\"-256.8513\" rx=\"18\" ry=\"18\"/>\n",
       "<text text-anchor=\"middle\" x=\"216.4898\" y=\"-252.6513\" font-family=\"Times,serif\" font-size=\"14.00\" fill=\"#000000\">7</text>\n",
       "</g>\n",
       "<!-- 10&#45;&gt;7 -->\n",
       "<g id=\"edge3\" class=\"edge\">\n",
       "<title>10&#45;&gt;7</title>\n",
       "<path fill=\"none\" stroke=\"#000000\" d=\"M32.4531,-237.5962C36.7795,-272.5007 47.415,-340.5723 65.8571,-354.8513 97.4493,-379.3118 120.846,-374.2863 155.7553,-354.8513 182.72,-339.8393 199.235,-307.3616 208.1064,-283.902\"/>\n",
       "<polygon fill=\"#000000\" stroke=\"#000000\" points=\"211.5153,-284.7604 211.5517,-274.1656 204.9162,-282.4252 211.5153,-284.7604\"/>\n",
       "<text text-anchor=\"middle\" x=\"110.8062\" y=\"-375.0513\" font-family=\"Times,serif\" font-size=\"14.00\" fill=\"#000000\">a:a</text>\n",
       "</g>\n",
       "<!-- 10&#45;&gt;7 -->\n",
       "<g id=\"edge17\" class=\"edge\">\n",
       "<title>10&#45;&gt;7</title>\n",
       "<path fill=\"none\" stroke=\"#000000\" d=\"M34.7242,-237.347C40.9639,-263.306 52.8776,-305.7651 65.8571,-314.8513 98.5886,-337.7648 118.6683,-329.7153 155.7553,-314.8513 173.4069,-307.7767 188.8374,-292.8553 199.728,-279.9193\"/>\n",
       "<polygon fill=\"#000000\" stroke=\"#000000\" points=\"202.7008,-281.8055 206.2068,-271.8076 197.2312,-277.437 202.7008,-281.8055\"/>\n",
       "<text text-anchor=\"middle\" x=\"110.8062\" y=\"-333.0513\" font-family=\"Times,serif\" font-size=\"14.00\" fill=\"#000000\">o:o</text>\n",
       "</g>\n",
       "<!-- 10&#45;&gt;7 -->\n",
       "<g id=\"edge22\" class=\"edge\">\n",
       "<title>10&#45;&gt;7</title>\n",
       "<path fill=\"none\" stroke=\"#000000\" d=\"M36.6074,-236.8116C42.087,-250.1877 51.4072,-266.7769 65.8571,-274.8513 105.0676,-296.7616 158.8862,-281.4909 190.4479,-268.8542\"/>\n",
       "<polygon fill=\"#000000\" stroke=\"#000000\" points=\"192.0045,-271.9966 199.8664,-264.8944 189.2915,-265.5437 192.0045,-271.9966\"/>\n",
       "<text text-anchor=\"middle\" x=\"110.8062\" y=\"-290.0513\" font-family=\"Times,serif\" font-size=\"14.00\" fill=\"#000000\">u:u</text>\n",
       "</g>\n",
       "<!-- 9 -->\n",
       "<g id=\"node4\" class=\"node\">\n",
       "<title>9</title>\n",
       "<ellipse fill=\"none\" stroke=\"#000000\" cx=\"400.1225\" cy=\"-130.8513\" rx=\"18\" ry=\"18\"/>\n",
       "<text text-anchor=\"middle\" x=\"400.1225\" y=\"-126.6513\" font-family=\"Times,serif\" font-size=\"14.00\" fill=\"#000000\">9</text>\n",
       "</g>\n",
       "<!-- 10&#45;&gt;9 -->\n",
       "<g id=\"edge25\" class=\"edge\">\n",
       "<title>10&#45;&gt;9</title>\n",
       "<path fill=\"none\" stroke=\"#000000\" d=\"M49.2286,-208.7168C54.5501,-206.627 60.3765,-204.5045 65.8571,-202.8513 123.9856,-185.3167 302.6408,-149.8336 372.0952,-136.2809\"/>\n",
       "<polygon fill=\"#000000\" stroke=\"#000000\" points=\"373.1225,-139.6467 382.2694,-134.3002 371.7849,-132.7757 373.1225,-139.6467\"/>\n",
       "<text text-anchor=\"middle\" x=\"216.4898\" y=\"-180.0513\" font-family=\"Times,serif\" font-size=\"14.00\" fill=\"#000000\">&lt;0xc3&gt;:&lt;0xc3&gt;</text>\n",
       "</g>\n",
       "<!-- 1 -->\n",
       "<g id=\"node5\" class=\"node\">\n",
       "<title>1</title>\n",
       "<ellipse fill=\"none\" stroke=\"#000000\" cx=\"216.4898\" cy=\"-129.8513\" rx=\"18\" ry=\"18\"/>\n",
       "<text text-anchor=\"middle\" x=\"216.4898\" y=\"-125.6513\" font-family=\"Times,serif\" font-size=\"14.00\" fill=\"#000000\">1</text>\n",
       "</g>\n",
       "<!-- 10&#45;&gt;1 -->\n",
       "<g id=\"edge26\" class=\"edge\">\n",
       "<title>10&#45;&gt;1</title>\n",
       "<path fill=\"none\" stroke=\"#000000\" d=\"M36.0602,-196.8856C41.4262,-182.3569 50.8431,-163.4728 65.8571,-153.0513 85.0968,-139.6967 149.7573,-133.7179 187.8211,-131.3\"/>\n",
       "<polygon fill=\"#000000\" stroke=\"#000000\" points=\"188.4702,-134.7678 198.2465,-130.6844 188.0575,-127.78 188.4702,-134.7678\"/>\n",
       "<text text-anchor=\"middle\" x=\"110.8062\" y=\"-157.0513\" font-family=\"Times,serif\" font-size=\"14.00\" fill=\"#000000\">&lt;0xc5&gt;:&lt;0xc5&gt;</text>\n",
       "</g>\n",
       "<!-- 2 -->\n",
       "<g id=\"node6\" class=\"node\">\n",
       "<title>2</title>\n",
       "<ellipse fill=\"none\" stroke=\"#000000\" cx=\"400.1225\" cy=\"-383.8513\" rx=\"18\" ry=\"18\"/>\n",
       "<text text-anchor=\"middle\" x=\"400.1225\" y=\"-379.6513\" font-family=\"Times,serif\" font-size=\"14.00\" fill=\"#000000\">2</text>\n",
       "</g>\n",
       "<!-- 0&#45;&gt;2 -->\n",
       "<g id=\"edge27\" class=\"edge\">\n",
       "<title>0&#45;&gt;2</title>\n",
       "<path fill=\"none\" stroke=\"#000000\" d=\"M233.6946,-1018.7106C243.4867,-1014.3535 255.1701,-1007.5424 262.2243,-997.8513 332.7769,-900.9255 383.7079,-518.941 396.8088,-411.8794\"/>\n",
       "<polygon fill=\"#000000\" stroke=\"#000000\" points=\"400.2964,-412.1926 398.024,-401.8443 393.3472,-411.351 400.2964,-412.1926\"/>\n",
       "<text text-anchor=\"middle\" x=\"322.1734\" y=\"-967.0513\" font-family=\"Times,serif\" font-size=\"14.00\" fill=\"#000000\">&lt;epsilon&gt;:l</text>\n",
       "</g>\n",
       "<!-- 7&#45;&gt;10 -->\n",
       "<g id=\"edge35\" class=\"edge\">\n",
       "<title>7&#45;&gt;10</title>\n",
       "<path fill=\"none\" stroke=\"#000000\" d=\"M198.45,-256.0864C169.757,-254.4582 112.2266,-249.5031 65.8571,-234.8513 63.0653,-233.9691 60.2243,-232.8889 57.4261,-231.6998\"/>\n",
       "<polygon fill=\"#000000\" stroke=\"#000000\" points=\"58.7503,-228.4549 48.2114,-227.3675 55.7719,-234.7897 58.7503,-228.4549\"/>\n",
       "<text text-anchor=\"middle\" x=\"110.8062\" y=\"-256.0513\" font-family=\"Times,serif\" font-size=\"14.00\" fill=\"#000000\">&#45;:&#45;</text>\n",
       "</g>\n",
       "<!-- 7&#45;&gt;10 -->\n",
       "<g id=\"edge57\" class=\"edge\">\n",
       "<title>7&#45;&gt;10</title>\n",
       "<path fill=\"none\" stroke=\"#000000\" d=\"M203.3614,-243.9211C191.8814,-233.5869 174.2,-219.8975 155.7553,-214.0513 124.5091,-204.1476 86.664,-206.8376 60.7376,-210.7476\"/>\n",
       "<polygon fill=\"#000000\" stroke=\"#000000\" points=\"60.0416,-207.3151 50.7486,-212.4035 61.1864,-214.2209 60.0416,-207.3151\"/>\n",
       "<text text-anchor=\"middle\" x=\"110.8062\" y=\"-218.0513\" font-family=\"Times,serif\" font-size=\"14.00\" fill=\"#000000\">y:y</text>\n",
       "</g>\n",
       "<!-- 7&#45;&gt;7 -->\n",
       "<g id=\"edge36\" class=\"edge\">\n",
       "<title>7&#45;&gt;7</title>\n",
       "<path fill=\"none\" stroke=\"#000000\" d=\"M215.0425,-275.004C214.8199,-284.3904 215.3023,-292.8513 216.4898,-292.8513 217.2134,-292.8513 217.6752,-289.7094 217.8752,-285.1309\"/>\n",
       "<polygon fill=\"#000000\" stroke=\"#000000\" points=\"221.3758,-285.0252 217.9371,-275.004 214.376,-284.9824 221.3758,-285.0252\"/>\n",
       "<text text-anchor=\"middle\" x=\"216.4898\" y=\"-297.0513\" font-family=\"Times,serif\" font-size=\"14.00\" fill=\"#000000\">a:a</text>\n",
       "</g>\n",
       "<!-- 7&#45;&gt;7 -->\n",
       "<g id=\"edge37\" class=\"edge\">\n",
       "<title>7&#45;&gt;7</title>\n",
       "<path fill=\"none\" stroke=\"#000000\" d=\"M214.0847,-274.8295C212.7975,-292.051 213.5992,-310.8513 216.4898,-310.8513 218.8159,-310.8513 219.7893,-298.6777 219.4101,-284.9491\"/>\n",
       "<polygon fill=\"#000000\" stroke=\"#000000\" points=\"222.8989,-284.6386 218.8949,-274.8295 215.9079,-284.9946 222.8989,-284.6386\"/>\n",
       "<text text-anchor=\"middle\" x=\"216.4898\" y=\"-315.0513\" font-family=\"Times,serif\" font-size=\"14.00\" fill=\"#000000\">b:b</text>\n",
       "</g>\n",
       "<!-- 7&#45;&gt;7 -->\n",
       "<g id=\"edge38\" class=\"edge\">\n",
       "<title>7&#45;&gt;7</title>\n",
       "<path fill=\"none\" stroke=\"#000000\" d=\"M213.4535,-274.9294C210.7668,-299.2607 211.7789,-328.8513 216.4898,-328.8513 220.5567,-328.8513 221.867,-306.7988 220.4207,-285.1149\"/>\n",
       "<polygon fill=\"#000000\" stroke=\"#000000\" points=\"223.8877,-284.5848 219.5261,-274.9294 216.9146,-285.1973 223.8877,-284.5848\"/>\n",
       "<text text-anchor=\"middle\" x=\"216.4898\" y=\"-333.0513\" font-family=\"Times,serif\" font-size=\"14.00\" fill=\"#000000\">c:c</text>\n",
       "</g>\n",
       "<!-- 7&#45;&gt;7 -->\n",
       "<g id=\"edge39\" class=\"edge\">\n",
       "<title>7&#45;&gt;7</title>\n",
       "<path fill=\"none\" stroke=\"#000000\" d=\"M213.0126,-274.9637C208.737,-306.0911 209.8961,-346.8513 216.4898,-346.8513 222.3881,-346.8513 223.9377,-314.2356 221.1385,-285.0749\"/>\n",
       "<polygon fill=\"#000000\" stroke=\"#000000\" points=\"224.5947,-284.4944 219.967,-274.9637 217.6412,-285.3001 224.5947,-284.4944\"/>\n",
       "<text text-anchor=\"middle\" x=\"216.4898\" y=\"-351.0513\" font-family=\"Times,serif\" font-size=\"14.00\" fill=\"#000000\">d:d</text>\n",
       "</g>\n",
       "<!-- 7&#45;&gt;7 -->\n",
       "<g id=\"edge40\" class=\"edge\">\n",
       "<title>7&#45;&gt;7</title>\n",
       "<path fill=\"none\" stroke=\"#000000\" d=\"M212.739,-274.6496C206.7044,-312.4001 207.9546,-364.8513 216.4898,-364.8513 224.2915,-364.8513 226.0065,-321.0278 221.635,-284.6652\"/>\n",
       "<polygon fill=\"#000000\" stroke=\"#000000\" points=\"225.0862,-284.0714 220.2406,-274.6496 218.153,-285.0367 225.0862,-284.0714\"/>\n",
       "<text text-anchor=\"middle\" x=\"216.4898\" y=\"-369.0513\" font-family=\"Times,serif\" font-size=\"14.00\" fill=\"#000000\">e:e</text>\n",
       "</g>\n",
       "<!-- 7&#45;&gt;7 -->\n",
       "<g id=\"edge41\" class=\"edge\">\n",
       "<title>7&#45;&gt;7</title>\n",
       "<path fill=\"none\" stroke=\"#000000\" d=\"M212.4997,-274.6203C204.6832,-318.8256 206.0132,-382.8513 216.4898,-382.8513 226.1888,-382.8513 228.0486,-327.9767 222.0691,-284.7562\"/>\n",
       "<polygon fill=\"#000000\" stroke=\"#000000\" points=\"225.4868,-283.9575 220.4799,-274.6203 218.5712,-285.0418 225.4868,-283.9575\"/>\n",
       "<text text-anchor=\"middle\" x=\"216.4898\" y=\"-387.0513\" font-family=\"Times,serif\" font-size=\"14.00\" fill=\"#000000\">f:f</text>\n",
       "</g>\n",
       "<!-- 7&#45;&gt;7 -->\n",
       "<g id=\"edge42\" class=\"edge\">\n",
       "<title>7&#45;&gt;7</title>\n",
       "<path fill=\"none\" stroke=\"#000000\" d=\"M212.3346,-274.4686C202.6633,-325.0365 204.0484,-400.8513 216.4898,-400.8513 228.1293,-400.8513 230.0918,-334.4945 222.3773,-284.534\"/>\n",
       "<polygon fill=\"#000000\" stroke=\"#000000\" points=\"225.7905,-283.7301 220.645,-274.4686 218.8919,-284.9174 225.7905,-283.7301\"/>\n",
       "<text text-anchor=\"middle\" x=\"216.4898\" y=\"-405.0513\" font-family=\"Times,serif\" font-size=\"14.00\" fill=\"#000000\">g:g</text>\n",
       "</g>\n",
       "<!-- 7&#45;&gt;7 -->\n",
       "<g id=\"edge43\" class=\"edge\">\n",
       "<title>7&#45;&gt;7</title>\n",
       "<path fill=\"none\" stroke=\"#000000\" d=\"M212.1848,-274.4353C200.6486,-331.2954 202.0836,-418.8513 216.4898,-418.8513 230.0801,-418.8513 232.1269,-340.9329 222.6302,-284.371\"/>\n",
       "<polygon fill=\"#000000\" stroke=\"#000000\" points=\"226.0532,-283.6331 220.7948,-274.4353 219.1697,-284.9047 226.0532,-283.6331\"/>\n",
       "<text text-anchor=\"middle\" x=\"216.4898\" y=\"-423.0513\" font-family=\"Times,serif\" font-size=\"14.00\" fill=\"#000000\">h:h</text>\n",
       "</g>\n",
       "<!-- 7&#45;&gt;7 -->\n",
       "<g id=\"edge44\" class=\"edge\">\n",
       "<title>7&#45;&gt;7</title>\n",
       "<path fill=\"none\" stroke=\"#000000\" d=\"M212.0741,-274.3456C198.6351,-337.4452 200.107,-436.8513 216.4898,-436.8513 232.0407,-436.8513 234.1566,-347.2848 222.8375,-284.2215\"/>\n",
       "<polygon fill=\"#000000\" stroke=\"#000000\" points=\"226.2603,-283.4876 220.9055,-274.3456 219.3905,-284.8315 226.2603,-283.4876\"/>\n",
       "<text text-anchor=\"middle\" x=\"216.4898\" y=\"-441.0513\" font-family=\"Times,serif\" font-size=\"14.00\" fill=\"#000000\">i:i</text>\n",
       "</g>\n",
       "<!-- 7&#45;&gt;7 -->\n",
       "<g id=\"edge45\" class=\"edge\">\n",
       "<title>7&#45;&gt;7</title>\n",
       "<path fill=\"none\" stroke=\"#000000\" d=\"M211.9717,-274.3166C196.6244,-343.6193 198.1304,-454.8513 216.4898,-454.8513 233.9886,-454.8513 236.177,-353.8029 223.055,-284.3229\"/>\n",
       "<polygon fill=\"#000000\" stroke=\"#000000\" points=\"226.4413,-283.4121 221.0079,-274.3166 219.5833,-284.8152 226.4413,-283.4121\"/>\n",
       "<text text-anchor=\"middle\" x=\"216.4898\" y=\"-459.0513\" font-family=\"Times,serif\" font-size=\"14.00\" fill=\"#000000\">j:j</text>\n",
       "</g>\n",
       "<!-- 7&#45;&gt;7 -->\n",
       "<g id=\"edge46\" class=\"edge\">\n",
       "<title>7&#45;&gt;7</title>\n",
       "<path fill=\"none\" stroke=\"#000000\" d=\"M211.8454,-274.4622C194.6175,-349.9533 196.1656,-472.8513 216.4898,-472.8513 235.9407,-472.8513 238.1944,-360.2879 223.251,-284.4426\"/>\n",
       "<polygon fill=\"#000000\" stroke=\"#000000\" points=\"226.6329,-283.5184 221.1342,-274.4622 219.7853,-284.9708 226.6329,-283.5184\"/>\n",
       "<text text-anchor=\"middle\" x=\"216.4898\" y=\"-477.0513\" font-family=\"Times,serif\" font-size=\"14.00\" fill=\"#000000\">k:k</text>\n",
       "</g>\n",
       "<!-- 7&#45;&gt;7 -->\n",
       "<g id=\"edge47\" class=\"edge\">\n",
       "<title>7&#45;&gt;7</title>\n",
       "<path fill=\"none\" stroke=\"#000000\" d=\"M211.7833,-274.3799C192.6085,-356.0176 194.1773,-490.8513 216.4898,-490.8513 237.9307,-490.8513 240.2169,-366.3457 223.3484,-284.1792\"/>\n",
       "<polygon fill=\"#000000\" stroke=\"#000000\" points=\"226.76,-283.3964 221.1963,-274.3799 219.923,-284.898 226.76,-283.3964\"/>\n",
       "<text text-anchor=\"middle\" x=\"216.4898\" y=\"-495.0513\" font-family=\"Times,serif\" font-size=\"14.00\" fill=\"#000000\">l:l</text>\n",
       "</g>\n",
       "<!-- 7&#45;&gt;7 -->\n",
       "<g id=\"edge48\" class=\"edge\">\n",
       "<title>7&#45;&gt;7</title>\n",
       "<path fill=\"none\" stroke=\"#000000\" d=\"M211.7202,-274.3478C190.6011,-362.1165 192.191,-508.8513 216.4898,-508.8513 239.8869,-508.8513 242.2292,-372.8049 223.5167,-284.352\"/>\n",
       "<polygon fill=\"#000000\" stroke=\"#000000\" points=\"226.8747,-283.3322 221.2594,-274.3478 220.0464,-284.873 226.8747,-283.3322\"/>\n",
       "<text text-anchor=\"middle\" x=\"216.4898\" y=\"-513.0513\" font-family=\"Times,serif\" font-size=\"14.00\" fill=\"#000000\">m:m</text>\n",
       "</g>\n",
       "<!-- 7&#45;&gt;7 -->\n",
       "<g id=\"edge49\" class=\"edge\">\n",
       "<title>7&#45;&gt;7</title>\n",
       "<path fill=\"none\" stroke=\"#000000\" d=\"M211.6398,-274.4217C188.5958,-368.3184 190.2125,-526.8513 216.4898,-526.8513 241.869,-526.8513 244.2445,-378.9704 223.6163,-284.2674\"/>\n",
       "<polygon fill=\"#000000\" stroke=\"#000000\" points=\"227.0027,-283.3762 221.3398,-274.4217 220.1826,-284.9532 227.0027,-283.3762\"/>\n",
       "<text text-anchor=\"middle\" x=\"216.4898\" y=\"-531.0513\" font-family=\"Times,serif\" font-size=\"14.00\" fill=\"#000000\">n:n</text>\n",
       "</g>\n",
       "<!-- 7&#45;&gt;7 -->\n",
       "<g id=\"edge50\" class=\"edge\">\n",
       "<title>7&#45;&gt;7</title>\n",
       "<path fill=\"none\" stroke=\"#000000\" d=\"M211.603,-274.3461C186.5894,-374.3389 188.2183,-544.8513 216.4898,-544.8513 243.8502,-544.8513 246.2576,-385.1519 223.7119,-284.225\"/>\n",
       "<polygon fill=\"#000000\" stroke=\"#000000\" points=\"227.0833,-283.2726 221.3766,-274.3461 220.271,-284.883 227.0833,-283.2726\"/>\n",
       "<text text-anchor=\"middle\" x=\"216.4898\" y=\"-549.0513\" font-family=\"Times,serif\" font-size=\"14.00\" fill=\"#000000\">o:o</text>\n",
       "</g>\n",
       "<!-- 7&#45;&gt;7 -->\n",
       "<g id=\"edge51\" class=\"edge\">\n",
       "<title>7&#45;&gt;7</title>\n",
       "<path fill=\"none\" stroke=\"#000000\" d=\"M211.5269,-274.4508C184.5855,-380.5537 186.2398,-562.8513 216.4898,-562.8513 245.824,-562.8513 248.2677,-391.4242 223.8209,-284.2894\"/>\n",
       "<polygon fill=\"#000000\" stroke=\"#000000\" points=\"227.1958,-283.354 221.4527,-274.4508 220.3902,-284.9922 227.1958,-283.354\"/>\n",
       "<text text-anchor=\"middle\" x=\"216.4898\" y=\"-567.0513\" font-family=\"Times,serif\" font-size=\"14.00\" fill=\"#000000\">p:p</text>\n",
       "</g>\n",
       "<!-- 7&#45;&gt;7 -->\n",
       "<g id=\"edge52\" class=\"edge\">\n",
       "<title>7&#45;&gt;7</title>\n",
       "<path fill=\"none\" stroke=\"#000000\" d=\"M211.4838,-274.4439C182.5809,-386.632 184.2496,-580.8513 216.4898,-580.8513 247.817,-580.8513 250.2797,-397.477 223.8779,-284.1666\"/>\n",
       "<polygon fill=\"#000000\" stroke=\"#000000\" points=\"227.275,-283.3237 221.4959,-274.4439 220.4761,-284.9895 227.275,-283.3237\"/>\n",
       "<text text-anchor=\"middle\" x=\"216.4898\" y=\"-585.0513\" font-family=\"Times,serif\" font-size=\"14.00\" fill=\"#000000\">r:r</text>\n",
       "</g>\n",
       "<!-- 7&#45;&gt;7 -->\n",
       "<g id=\"edge53\" class=\"edge\">\n",
       "<title>7&#45;&gt;7</title>\n",
       "<path fill=\"none\" stroke=\"#000000\" d=\"M211.4739,-274.3261C180.5756,-392.5733 182.2476,-598.8513 216.4898,-598.8513 249.7957,-598.8513 252.2882,-403.6999 223.9673,-284.2175\"/>\n",
       "<polygon fill=\"#000000\" stroke=\"#000000\" points=\"227.3172,-283.1849 221.5057,-274.3261 220.5243,-284.8754 227.3172,-283.1849\"/>\n",
       "<text text-anchor=\"middle\" x=\"216.4898\" y=\"-603.0513\" font-family=\"Times,serif\" font-size=\"14.00\" fill=\"#000000\">s:s</text>\n",
       "</g>\n",
       "<!-- 7&#45;&gt;7 -->\n",
       "<g id=\"edge54\" class=\"edge\">\n",
       "<title>7&#45;&gt;7</title>\n",
       "<path fill=\"none\" stroke=\"#000000\" d=\"M211.3965,-274.4802C178.5733,-398.824 180.2711,-616.8513 216.4898,-616.8513 251.7536,-616.8513 254.2928,-410.1699 224.1074,-284.5057\"/>\n",
       "<polygon fill=\"#000000\" stroke=\"#000000\" points=\"227.4189,-283.3229 221.5831,-274.4802 220.6308,-285.0322 227.4189,-283.3229\"/>\n",
       "<text text-anchor=\"middle\" x=\"216.4898\" y=\"-621.0513\" font-family=\"Times,serif\" font-size=\"14.00\" fill=\"#000000\">t:t</text>\n",
       "</g>\n",
       "<!-- 7&#45;&gt;7 -->\n",
       "<g id=\"edge55\" class=\"edge\">\n",
       "<title>7&#45;&gt;7</title>\n",
       "<path fill=\"none\" stroke=\"#000000\" d=\"M211.4481,-274.1605C176.5671,-404.5131 178.2476,-634.8513 216.4898,-634.8513 253.7983,-634.8513 256.3087,-415.6228 224.0209,-283.8818\"/>\n",
       "<polygon fill=\"#000000\" stroke=\"#000000\" points=\"227.4029,-282.9797 221.5315,-274.1605 220.6217,-284.7162 227.4029,-282.9797\"/>\n",
       "<text text-anchor=\"middle\" x=\"216.4898\" y=\"-639.0513\" font-family=\"Times,serif\" font-size=\"14.00\" fill=\"#000000\">u:u</text>\n",
       "</g>\n",
       "<!-- 7&#45;&gt;7 -->\n",
       "<g id=\"edge56\" class=\"edge\">\n",
       "<title>7&#45;&gt;7</title>\n",
       "<path fill=\"none\" stroke=\"#000000\" d=\"M211.421,-274.1492C174.5639,-410.5577 176.2535,-652.8513 216.4898,-652.8513 255.7831,-652.8513 258.3154,-421.7821 224.0866,-283.9104\"/>\n",
       "<polygon fill=\"#000000\" stroke=\"#000000\" points=\"227.454,-282.9523 221.5586,-274.1492 220.6776,-284.7073 227.454,-282.9523\"/>\n",
       "<text text-anchor=\"middle\" x=\"216.4898\" y=\"-657.0513\" font-family=\"Times,serif\" font-size=\"14.00\" fill=\"#000000\">v:v</text>\n",
       "</g>\n",
       "<!-- 7&#45;&gt;9 -->\n",
       "<g id=\"edge58\" class=\"edge\">\n",
       "<title>7&#45;&gt;9</title>\n",
       "<path fill=\"none\" stroke=\"#000000\" d=\"M233.3901,-249.9389C272.5952,-233.898 366.4633,-195.4564 367.1225,-194.8513 378.0232,-184.846 385.8983,-170.4118 391.2153,-157.7828\"/>\n",
       "<polygon fill=\"#000000\" stroke=\"#000000\" points=\"394.594,-158.7499 394.94,-148.1607 388.066,-156.2228 394.594,-158.7499\"/>\n",
       "<text text-anchor=\"middle\" x=\"322.1734\" y=\"-235.0513\" font-family=\"Times,serif\" font-size=\"14.00\" fill=\"#000000\">&lt;0xc3&gt;:&lt;0xc3&gt;</text>\n",
       "</g>\n",
       "<!-- 3 -->\n",
       "<g id=\"node8\" class=\"node\">\n",
       "<title>3</title>\n",
       "<ellipse fill=\"none\" stroke=\"#000000\" cx=\"400.1225\" cy=\"-326.8513\" rx=\"18\" ry=\"18\"/>\n",
       "<text text-anchor=\"middle\" x=\"400.1225\" y=\"-322.6513\" font-family=\"Times,serif\" font-size=\"14.00\" fill=\"#000000\">3</text>\n",
       "</g>\n",
       "<!-- 7&#45;&gt;3 -->\n",
       "<g id=\"edge59\" class=\"edge\">\n",
       "<title>7&#45;&gt;3</title>\n",
       "<path fill=\"none\" stroke=\"#000000\" d=\"M227.1703,-271.6221C238.0567,-285.4079 256.2837,-305.2513 277.2243,-314.8513 307.4059,-328.6878 346.0498,-330.1747 371.8705,-329.1904\"/>\n",
       "<polygon fill=\"#000000\" stroke=\"#000000\" points=\"372.2898,-332.6731 382.0894,-328.646 371.9173,-325.683 372.2898,-332.6731\"/>\n",
       "<text text-anchor=\"middle\" x=\"322.1734\" y=\"-333.0513\" font-family=\"Times,serif\" font-size=\"14.00\" fill=\"#000000\">&lt;0xc5&gt;:&lt;0xc5&gt;</text>\n",
       "</g>\n",
       "<!-- 6 -->\n",
       "<g id=\"node11\" class=\"node\">\n",
       "<title>6</title>\n",
       "<ellipse fill=\"none\" stroke=\"#000000\" cx=\"400.1225\" cy=\"-266.8513\" rx=\"18\" ry=\"18\"/>\n",
       "<text text-anchor=\"middle\" x=\"400.1225\" y=\"-262.6513\" font-family=\"Times,serif\" font-size=\"14.00\" fill=\"#000000\">6</text>\n",
       "</g>\n",
       "<!-- 7&#45;&gt;6 -->\n",
       "<g id=\"edge34\" class=\"edge\">\n",
       "<title>7&#45;&gt;6</title>\n",
       "<path fill=\"none\" stroke=\"#000000\" d=\"M234.6803,-255.5254C263.1002,-253.7839 319.6946,-251.6439 367.1225,-258.0513 369.0616,-258.3133 371.0491,-258.6539 373.0403,-259.0486\"/>\n",
       "<polygon fill=\"#000000\" stroke=\"#000000\" points=\"372.2839,-262.4662 382.8206,-261.3585 373.8929,-255.6536 372.2839,-262.4662\"/>\n",
       "<text text-anchor=\"middle\" x=\"322.1734\" y=\"-262.0513\" font-family=\"Times,serif\" font-size=\"14.00\" fill=\"#000000\">&lt;epsilon&gt;:l</text>\n",
       "</g>\n",
       "<!-- 9&#45;&gt;10 -->\n",
       "<g id=\"edge60\" class=\"edge\">\n",
       "<title>9&#45;&gt;10</title>\n",
       "<path fill=\"none\" stroke=\"#000000\" d=\"M384.2369,-122.1203C331.8656,-94.6388 162.5014,-16.3227 65.8571,-95.8513 51.9163,-107.3232 41.128,-154.202 35.2134,-186.126\"/>\n",
       "<polygon fill=\"#000000\" stroke=\"#000000\" points=\"31.708,-185.847 33.3969,-196.3063 38.5991,-187.0766 31.708,-185.847\"/>\n",
       "<text text-anchor=\"middle\" x=\"216.4898\" y=\"-77.0513\" font-family=\"Times,serif\" font-size=\"14.00\" fill=\"#000000\">&lt;0xa4&gt;:&lt;0xa4&gt;</text>\n",
       "</g>\n",
       "<!-- 9&#45;&gt;10 -->\n",
       "<g id=\"edge61\" class=\"edge\">\n",
       "<title>9&#45;&gt;10</title>\n",
       "<path fill=\"none\" stroke=\"#000000\" d=\"M393.7742,-113.9821C388.3913,-101.8013 379.5508,-85.8064 367.1225,-75.8513 262.4523,7.9896 163.216,33.3788 65.8571,-58.8513 47.7806,-75.9755 37.6332,-145.012 33.0947,-185.9475\"/>\n",
       "<polygon fill=\"#000000\" stroke=\"#000000\" points=\"29.6085,-185.6329 32.0355,-195.946 36.5696,-186.3704 29.6085,-185.6329\"/>\n",
       "<text text-anchor=\"middle\" x=\"216.4898\" y=\"-17.0513\" font-family=\"Times,serif\" font-size=\"14.00\" fill=\"#000000\">&lt;0xb6&gt;:&lt;0xb6&gt;</text>\n",
       "</g>\n",
       "<!-- 1&#45;&gt;10 -->\n",
       "<g id=\"edge28\" class=\"edge\">\n",
       "<title>1&#45;&gt;10</title>\n",
       "<path fill=\"none\" stroke=\"#000000\" d=\"M200.2004,-121.5058C170.4826,-107.578 106.7678,-83.8573 65.8571,-113.0513 53.6154,-121.787 42.9007,-159.2083 36.4835,-186.6224\"/>\n",
       "<polygon fill=\"#000000\" stroke=\"#000000\" points=\"33.0285,-186.0332 34.2403,-196.5585 39.8567,-187.5748 33.0285,-186.0332\"/>\n",
       "<text text-anchor=\"middle\" x=\"110.8062\" y=\"-118.0513\" font-family=\"Times,serif\" font-size=\"14.00\" fill=\"#000000\">&lt;0xa1&gt;:&lt;0xa1&gt;</text>\n",
       "</g>\n",
       "<!-- 4 -->\n",
       "<g id=\"node7\" class=\"node\">\n",
       "<title>4</title>\n",
       "<ellipse fill=\"none\" stroke=\"#000000\" cx=\"569.2465\" cy=\"-375.8513\" rx=\"18\" ry=\"18\"/>\n",
       "<text text-anchor=\"middle\" x=\"569.2465\" y=\"-371.6513\" font-family=\"Times,serif\" font-size=\"14.00\" fill=\"#000000\">4</text>\n",
       "</g>\n",
       "<!-- 2&#45;&gt;4 -->\n",
       "<g id=\"edge29\" class=\"edge\">\n",
       "<title>2&#45;&gt;4</title>\n",
       "<path fill=\"none\" stroke=\"#000000\" d=\"M418.2217,-382.9952C447.6444,-381.6034 506.0669,-378.8399 540.9946,-377.1877\"/>\n",
       "<polygon fill=\"#000000\" stroke=\"#000000\" points=\"541.1984,-380.6821 551.0218,-376.7134 540.8675,-373.6899 541.1984,-380.6821\"/>\n",
       "<text text-anchor=\"middle\" x=\"484.6845\" y=\"-386.0513\" font-family=\"Times,serif\" font-size=\"14.00\" fill=\"#000000\">&lt;epsilon&gt;:&lt;0xc3&gt;</text>\n",
       "</g>\n",
       "<!-- 8 -->\n",
       "<g id=\"node9\" class=\"node\">\n",
       "<title>8</title>\n",
       "<ellipse fill=\"none\" stroke=\"#000000\" cx=\"742.3705\" cy=\"-340.8513\" rx=\"18\" ry=\"18\"/>\n",
       "<ellipse fill=\"none\" stroke=\"#000000\" cx=\"742.3705\" cy=\"-340.8513\" rx=\"22\" ry=\"22\"/>\n",
       "<text text-anchor=\"middle\" x=\"742.3705\" y=\"-336.6513\" font-family=\"Times,serif\" font-size=\"14.00\" fill=\"#000000\">8</text>\n",
       "</g>\n",
       "<!-- 4&#45;&gt;8 -->\n",
       "<g id=\"edge31\" class=\"edge\">\n",
       "<title>4&#45;&gt;8</title>\n",
       "<path fill=\"none\" stroke=\"#000000\" d=\"M587.1217,-372.2375C616.215,-366.3558 674.1993,-354.6333 710.4835,-347.2978\"/>\n",
       "<polygon fill=\"#000000\" stroke=\"#000000\" points=\"711.4375,-350.6758 720.5456,-345.2636 710.0504,-343.8146 711.4375,-350.6758\"/>\n",
       "<text text-anchor=\"middle\" x=\"653.8085\" y=\"-373.0513\" font-family=\"Times,serif\" font-size=\"14.00\" fill=\"#000000\">&lt;epsilon&gt;:&lt;0xa4&gt;</text>\n",
       "</g>\n",
       "<!-- 3&#45;&gt;7 -->\n",
       "<g id=\"edge30\" class=\"edge\">\n",
       "<title>3&#45;&gt;7</title>\n",
       "<path fill=\"none\" stroke=\"#000000\" d=\"M387.6965,-313.5346C381.915,-308.0311 374.6568,-302.0222 367.1225,-298.0513 330.6184,-278.8119 316.9894,-285.8713 277.2243,-274.8513 266.1758,-271.7895 254.054,-268.2364 243.5652,-265.0998\"/>\n",
       "<polygon fill=\"#000000\" stroke=\"#000000\" points=\"244.3055,-261.6676 233.721,-262.1358 242.2873,-268.3704 244.3055,-261.6676\"/>\n",
       "<text text-anchor=\"middle\" x=\"322.1734\" y=\"-302.0513\" font-family=\"Times,serif\" font-size=\"14.00\" fill=\"#000000\">&lt;0xa1&gt;:&lt;0xa1&gt;</text>\n",
       "</g>\n",
       "<!-- 5 -->\n",
       "<g id=\"node10\" class=\"node\">\n",
       "<title>5</title>\n",
       "<ellipse fill=\"none\" stroke=\"#000000\" cx=\"569.2465\" cy=\"-313.8513\" rx=\"18\" ry=\"18\"/>\n",
       "<text text-anchor=\"middle\" x=\"569.2465\" y=\"-309.6513\" font-family=\"Times,serif\" font-size=\"14.00\" fill=\"#000000\">5</text>\n",
       "</g>\n",
       "<!-- 5&#45;&gt;8 -->\n",
       "<g id=\"edge32\" class=\"edge\">\n",
       "<title>5&#45;&gt;8</title>\n",
       "<path fill=\"none\" stroke=\"#000000\" d=\"M587.6014,-313.5114C614.0342,-313.4358 664.1705,-314.8449 705.3705,-325.0513 707.8621,-325.6685 710.4008,-326.4342 712.9218,-327.2929\"/>\n",
       "<polygon fill=\"#000000\" stroke=\"#000000\" points=\"711.8299,-330.6228 722.4197,-330.9489 714.3446,-324.0901 711.8299,-330.6228\"/>\n",
       "<text text-anchor=\"middle\" x=\"653.8085\" y=\"-329.0513\" font-family=\"Times,serif\" font-size=\"14.00\" fill=\"#000000\">&lt;epsilon&gt;:a</text>\n",
       "</g>\n",
       "<!-- 6&#45;&gt;5 -->\n",
       "<g id=\"edge33\" class=\"edge\">\n",
       "<title>6&#45;&gt;5</title>\n",
       "<path fill=\"none\" stroke=\"#000000\" d=\"M417.5847,-271.7041C446.9546,-279.8661 506.4638,-296.4038 541.5735,-306.1609\"/>\n",
       "<polygon fill=\"#000000\" stroke=\"#000000\" points=\"541.0538,-309.6491 551.6259,-308.9545 542.9282,-302.9047 541.0538,-309.6491\"/>\n",
       "<text text-anchor=\"middle\" x=\"484.6845\" y=\"-307.0513\" font-family=\"Times,serif\" font-size=\"14.00\" fill=\"#000000\">&lt;epsilon&gt;:l</text>\n",
       "</g>\n",
       "</g>\n",
       "</svg>\n"
      ],
      "text/plain": [
       "<vector Fst at 0x1179e4e30>"
      ]
     },
     "execution_count": 22,
     "metadata": {},
     "output_type": "execute_result"
    }
   ],
   "source": [
    "test['ADESSIVE'].optimize()"
   ]
  },
  {
   "cell_type": "code",
   "execution_count": 23,
   "metadata": {},
   "outputs": [
    {
     "data": {
      "text/plain": [
       "'ADESSIVE'"
      ]
     },
     "execution_count": 23,
     "metadata": {},
     "output_type": "execute_result"
    }
   ],
   "source": [
    "test.get_key()"
   ]
  },
  {
   "cell_type": "code",
   "execution_count": null,
   "metadata": {
    "collapsed": true
   },
   "outputs": [],
   "source": []
  }
 ],
 "metadata": {
  "kernelspec": {
   "display_name": "Python 3",
   "language": "python",
   "name": "python3"
  },
  "language_info": {
   "codemirror_mode": {
    "name": "ipython",
    "version": 3
   },
   "file_extension": ".py",
   "mimetype": "text/x-python",
   "name": "python",
   "nbconvert_exporter": "python",
   "pygments_lexer": "ipython3",
   "version": "3.6.1"
  }
 },
 "nbformat": 4,
 "nbformat_minor": 2
}
