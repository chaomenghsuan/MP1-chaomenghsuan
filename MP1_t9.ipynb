{
 "cells": [
  {
   "cell_type": "code",
   "execution_count": 2,
   "metadata": {
    "collapsed": true
   },
   "outputs": [],
   "source": [
    "from pynini import *\n",
    "from string import punctuation\n",
    "import tqdm"
   ]
  },
  {
   "cell_type": "code",
   "execution_count": 5,
   "metadata": {
    "collapsed": true
   },
   "outputs": [],
   "source": [
    "# 0: 0, <SPACE>\n",
    "# 1: 1, ASCII punctuation characters (`string.punctuation`)\n",
    "# 2: 2, a, b, c\n",
    "# 3: 3, d, e, f\n",
    "# 4: 4, g, h, i\n",
    "# 5: 5, j, k, l\n",
    "# 6: 6, m, n, o\n",
    "# 7: 7, p, q, r, s\n",
    "# 8: 8, t, u, v\n",
    "# 9: 9, w, x, y, z"
   ]
  },
  {
   "cell_type": "markdown",
   "metadata": {
    "collapsed": true
   },
   "source": [
    "# create decimal codepoints file for LM"
   ]
  },
  {
   "cell_type": "code",
   "execution_count": 124,
   "metadata": {},
   "outputs": [
    {
     "name": "stderr",
     "output_type": "stream",
     "text": [
      "100%|██████████| 5000/5000 [00:00<00:00, 17425.60it/s]\n"
     ]
    }
   ],
   "source": [
    "with open('/Users/zhaomengxuan/language_tech/training-monolingual/news.2009.en.shuffled') as file:\n",
    "    with open('/Users/zhaomengxuan/language_tech/MP1/chr_lm.txt', 'w') as output:\n",
    "        content = file.readlines()\n",
    "        for sent in tqdm.tqdm(content[:5000]):\n",
    "            output.write(' '.join([str(ord(ch)) for ch in sent]))\n",
    "            output.write('\\n')"
   ]
  },
  {
   "cell_type": "markdown",
   "metadata": {},
   "source": [
    "# ncoder & decoder"
   ]
  },
  {
   "cell_type": "code",
   "execution_count": 105,
   "metadata": {},
   "outputs": [],
   "source": [
    "decode = string_file('t9.tsv').closure()\n",
    "encode = invert(decode)"
   ]
  },
  {
   "cell_type": "code",
   "execution_count": 112,
   "metadata": {},
   "outputs": [
    {
     "data": {
      "text/plain": [
       "'4357'"
      ]
     },
     "execution_count": 112,
     "metadata": {},
     "output_type": "execute_result"
    }
   ],
   "source": [
    "compose('help', encode).stringify()"
   ]
  },
  {
   "cell_type": "code",
   "execution_count": 125,
   "metadata": {},
   "outputs": [],
   "source": [
    "lm = Fst.read(\"t9.lm\")"
   ]
  },
  {
   "cell_type": "code",
   "execution_count": 137,
   "metadata": {},
   "outputs": [],
   "source": [
    "def encoder(text):\n",
    "    return compose(text.lower(), encode).stringify()\n",
    "\n",
    "def decoder(numbers, n):\n",
    "    lattice = ((numbers @ decode).project(True) @ lm).optimize()\n",
    "    n_best_results = shortestpath(lattice, nshortest=n, unique=True).paths()\n",
    "    return [item[1] for item in n_best_results]"
   ]
  },
  {
   "cell_type": "markdown",
   "metadata": {},
   "source": [
    "# demo"
   ]
  },
  {
   "cell_type": "code",
   "execution_count": 136,
   "metadata": {},
   "outputs": [
    {
     "data": {
      "text/plain": [
       "'4302830766384464'"
      ]
     },
     "execution_count": 136,
     "metadata": {},
     "output_type": "execute_result"
    }
   ],
   "source": [
    "t = \"HE ATE SOMETHING\"\n",
    "encoder(t)"
   ]
  },
  {
   "cell_type": "code",
   "execution_count": 138,
   "metadata": {},
   "outputs": [
    {
     "data": {
      "text/plain": [
       "['he ave something',\n",
       " 'he aud something',\n",
       " 'id ate something',\n",
       " '43 ave something',\n",
       " 'ge ave something']"
      ]
     },
     "execution_count": 138,
     "metadata": {},
     "output_type": "execute_result"
    }
   ],
   "source": [
    "decoder('4302830766384464',5)"
   ]
  },
  {
   "cell_type": "code",
   "execution_count": 139,
   "metadata": {},
   "outputs": [
    {
     "data": {
      "text/plain": [
       "'844704702023288438503291'"
      ]
     },
     "execution_count": 139,
     "metadata": {},
     "output_type": "execute_result"
    }
   ],
   "source": [
    "t2 = 'This is a beautiful day.'\n",
    "encoder(t2)"
   ]
  },
  {
   "cell_type": "code",
   "execution_count": 140,
   "metadata": {},
   "outputs": [
    {
     "data": {
      "text/plain": [
       "['this is a beautiful day-',\n",
       " 'this is a beautiful day)',\n",
       " 'this is a beautiful day!',\n",
       " 'this is a beautiful day:',\n",
       " \"this is a beautiful day'\",\n",
       " '8his is a beautiful day-',\n",
       " 'this is a beautiful 329/',\n",
       " 'this is a beautiful 3291',\n",
       " 'this is a beautiful fax-',\n",
       " 'this is a beautiful fax@']"
      ]
     },
     "execution_count": 140,
     "metadata": {},
     "output_type": "execute_result"
    }
   ],
   "source": [
    "decoder('844704702023288438503291', 10)"
   ]
  },
  {
   "cell_type": "code",
   "execution_count": null,
   "metadata": {
    "collapsed": true
   },
   "outputs": [],
   "source": []
  }
 ],
 "metadata": {
  "kernelspec": {
   "display_name": "Python 3",
   "language": "python",
   "name": "python3"
  },
  "language_info": {
   "codemirror_mode": {
    "name": "ipython",
    "version": 3
   },
   "file_extension": ".py",
   "mimetype": "text/x-python",
   "name": "python",
   "nbconvert_exporter": "python",
   "pygments_lexer": "ipython3",
   "version": "3.6.1"
  }
 },
 "nbformat": 4,
 "nbformat_minor": 2
}
